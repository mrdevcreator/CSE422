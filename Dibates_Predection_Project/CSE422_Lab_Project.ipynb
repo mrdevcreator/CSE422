{
  "cells": [
    {
      "cell_type": "markdown",
      "source": [
        "# **Importing Libraries**"
      ],
      "metadata": {
        "id": "-2WMY-zOUKxl"
      }
    },
    {
      "cell_type": "code",
      "execution_count": null,
      "metadata": {
        "id": "DvmqYl_pW5Sn"
      },
      "outputs": [],
      "source": [
        "import numpy as np\n",
        "import pandas as pd\n",
        "import matplotlib.pyplot as plt\n",
        "import seaborn as sns\n",
        "from sklearn.metrics import confusion_matrix,accuracy_score"
      ]
    },
    {
      "cell_type": "markdown",
      "source": [
        "# Loading the data and Balanching the data"
      ],
      "metadata": {
        "id": "zZzaew5pUvLa"
      }
    },
    {
      "cell_type": "code",
      "execution_count": null,
      "metadata": {
        "id": "SHGS4bxHW7pa",
        "colab": {
          "base_uri": "https://localhost:8080/",
          "height": 363
        },
        "outputId": "023f40cb-b00f-4695-b01d-82e33f8a713d"
      },
      "outputs": [
        {
          "output_type": "error",
          "ename": "FileNotFoundError",
          "evalue": "ignored",
          "traceback": [
            "\u001b[0;31m---------------------------------------------------------------------------\u001b[0m",
            "\u001b[0;31mFileNotFoundError\u001b[0m                         Traceback (most recent call last)",
            "\u001b[0;32m<ipython-input-2-fea2937362b1>\u001b[0m in \u001b[0;36m<cell line: 1>\u001b[0;34m()\u001b[0m\n\u001b[0;32m----> 1\u001b[0;31m \u001b[0mdf1\u001b[0m \u001b[0;34m=\u001b[0m \u001b[0mpd\u001b[0m\u001b[0;34m.\u001b[0m\u001b[0mread_csv\u001b[0m\u001b[0;34m(\u001b[0m\u001b[0;34m'/content/diabetes_012_health_indicators_BRFSS2021.csv'\u001b[0m\u001b[0;34m)\u001b[0m\u001b[0;34m\u001b[0m\u001b[0;34m\u001b[0m\u001b[0m\n\u001b[0m\u001b[1;32m      2\u001b[0m \u001b[0mdf1\u001b[0m\u001b[0;34m.\u001b[0m\u001b[0mshape\u001b[0m\u001b[0;34m\u001b[0m\u001b[0;34m\u001b[0m\u001b[0m\n",
            "\u001b[0;32m/usr/local/lib/python3.10/dist-packages/pandas/util/_decorators.py\u001b[0m in \u001b[0;36mwrapper\u001b[0;34m(*args, **kwargs)\u001b[0m\n\u001b[1;32m    209\u001b[0m                 \u001b[0;32melse\u001b[0m\u001b[0;34m:\u001b[0m\u001b[0;34m\u001b[0m\u001b[0;34m\u001b[0m\u001b[0m\n\u001b[1;32m    210\u001b[0m                     \u001b[0mkwargs\u001b[0m\u001b[0;34m[\u001b[0m\u001b[0mnew_arg_name\u001b[0m\u001b[0;34m]\u001b[0m \u001b[0;34m=\u001b[0m \u001b[0mnew_arg_value\u001b[0m\u001b[0;34m\u001b[0m\u001b[0;34m\u001b[0m\u001b[0m\n\u001b[0;32m--> 211\u001b[0;31m             \u001b[0;32mreturn\u001b[0m \u001b[0mfunc\u001b[0m\u001b[0;34m(\u001b[0m\u001b[0;34m*\u001b[0m\u001b[0margs\u001b[0m\u001b[0;34m,\u001b[0m \u001b[0;34m**\u001b[0m\u001b[0mkwargs\u001b[0m\u001b[0;34m)\u001b[0m\u001b[0;34m\u001b[0m\u001b[0;34m\u001b[0m\u001b[0m\n\u001b[0m\u001b[1;32m    212\u001b[0m \u001b[0;34m\u001b[0m\u001b[0m\n\u001b[1;32m    213\u001b[0m         \u001b[0;32mreturn\u001b[0m \u001b[0mcast\u001b[0m\u001b[0;34m(\u001b[0m\u001b[0mF\u001b[0m\u001b[0;34m,\u001b[0m \u001b[0mwrapper\u001b[0m\u001b[0;34m)\u001b[0m\u001b[0;34m\u001b[0m\u001b[0;34m\u001b[0m\u001b[0m\n",
            "\u001b[0;32m/usr/local/lib/python3.10/dist-packages/pandas/util/_decorators.py\u001b[0m in \u001b[0;36mwrapper\u001b[0;34m(*args, **kwargs)\u001b[0m\n\u001b[1;32m    329\u001b[0m                     \u001b[0mstacklevel\u001b[0m\u001b[0;34m=\u001b[0m\u001b[0mfind_stack_level\u001b[0m\u001b[0;34m(\u001b[0m\u001b[0;34m)\u001b[0m\u001b[0;34m,\u001b[0m\u001b[0;34m\u001b[0m\u001b[0;34m\u001b[0m\u001b[0m\n\u001b[1;32m    330\u001b[0m                 )\n\u001b[0;32m--> 331\u001b[0;31m             \u001b[0;32mreturn\u001b[0m \u001b[0mfunc\u001b[0m\u001b[0;34m(\u001b[0m\u001b[0;34m*\u001b[0m\u001b[0margs\u001b[0m\u001b[0;34m,\u001b[0m \u001b[0;34m**\u001b[0m\u001b[0mkwargs\u001b[0m\u001b[0;34m)\u001b[0m\u001b[0;34m\u001b[0m\u001b[0;34m\u001b[0m\u001b[0m\n\u001b[0m\u001b[1;32m    332\u001b[0m \u001b[0;34m\u001b[0m\u001b[0m\n\u001b[1;32m    333\u001b[0m         \u001b[0;31m# error: \"Callable[[VarArg(Any), KwArg(Any)], Any]\" has no\u001b[0m\u001b[0;34m\u001b[0m\u001b[0;34m\u001b[0m\u001b[0m\n",
            "\u001b[0;32m/usr/local/lib/python3.10/dist-packages/pandas/io/parsers/readers.py\u001b[0m in \u001b[0;36mread_csv\u001b[0;34m(filepath_or_buffer, sep, delimiter, header, names, index_col, usecols, squeeze, prefix, mangle_dupe_cols, dtype, engine, converters, true_values, false_values, skipinitialspace, skiprows, skipfooter, nrows, na_values, keep_default_na, na_filter, verbose, skip_blank_lines, parse_dates, infer_datetime_format, keep_date_col, date_parser, dayfirst, cache_dates, iterator, chunksize, compression, thousands, decimal, lineterminator, quotechar, quoting, doublequote, escapechar, comment, encoding, encoding_errors, dialect, error_bad_lines, warn_bad_lines, on_bad_lines, delim_whitespace, low_memory, memory_map, float_precision, storage_options)\u001b[0m\n\u001b[1;32m    948\u001b[0m     \u001b[0mkwds\u001b[0m\u001b[0;34m.\u001b[0m\u001b[0mupdate\u001b[0m\u001b[0;34m(\u001b[0m\u001b[0mkwds_defaults\u001b[0m\u001b[0;34m)\u001b[0m\u001b[0;34m\u001b[0m\u001b[0;34m\u001b[0m\u001b[0m\n\u001b[1;32m    949\u001b[0m \u001b[0;34m\u001b[0m\u001b[0m\n\u001b[0;32m--> 950\u001b[0;31m     \u001b[0;32mreturn\u001b[0m \u001b[0m_read\u001b[0m\u001b[0;34m(\u001b[0m\u001b[0mfilepath_or_buffer\u001b[0m\u001b[0;34m,\u001b[0m \u001b[0mkwds\u001b[0m\u001b[0;34m)\u001b[0m\u001b[0;34m\u001b[0m\u001b[0;34m\u001b[0m\u001b[0m\n\u001b[0m\u001b[1;32m    951\u001b[0m \u001b[0;34m\u001b[0m\u001b[0m\n\u001b[1;32m    952\u001b[0m \u001b[0;34m\u001b[0m\u001b[0m\n",
            "\u001b[0;32m/usr/local/lib/python3.10/dist-packages/pandas/io/parsers/readers.py\u001b[0m in \u001b[0;36m_read\u001b[0;34m(filepath_or_buffer, kwds)\u001b[0m\n\u001b[1;32m    603\u001b[0m \u001b[0;34m\u001b[0m\u001b[0m\n\u001b[1;32m    604\u001b[0m     \u001b[0;31m# Create the parser.\u001b[0m\u001b[0;34m\u001b[0m\u001b[0;34m\u001b[0m\u001b[0m\n\u001b[0;32m--> 605\u001b[0;31m     \u001b[0mparser\u001b[0m \u001b[0;34m=\u001b[0m \u001b[0mTextFileReader\u001b[0m\u001b[0;34m(\u001b[0m\u001b[0mfilepath_or_buffer\u001b[0m\u001b[0;34m,\u001b[0m \u001b[0;34m**\u001b[0m\u001b[0mkwds\u001b[0m\u001b[0;34m)\u001b[0m\u001b[0;34m\u001b[0m\u001b[0;34m\u001b[0m\u001b[0m\n\u001b[0m\u001b[1;32m    606\u001b[0m \u001b[0;34m\u001b[0m\u001b[0m\n\u001b[1;32m    607\u001b[0m     \u001b[0;32mif\u001b[0m \u001b[0mchunksize\u001b[0m \u001b[0;32mor\u001b[0m \u001b[0miterator\u001b[0m\u001b[0;34m:\u001b[0m\u001b[0;34m\u001b[0m\u001b[0;34m\u001b[0m\u001b[0m\n",
            "\u001b[0;32m/usr/local/lib/python3.10/dist-packages/pandas/io/parsers/readers.py\u001b[0m in \u001b[0;36m__init__\u001b[0;34m(self, f, engine, **kwds)\u001b[0m\n\u001b[1;32m   1440\u001b[0m \u001b[0;34m\u001b[0m\u001b[0m\n\u001b[1;32m   1441\u001b[0m         \u001b[0mself\u001b[0m\u001b[0;34m.\u001b[0m\u001b[0mhandles\u001b[0m\u001b[0;34m:\u001b[0m \u001b[0mIOHandles\u001b[0m \u001b[0;34m|\u001b[0m \u001b[0;32mNone\u001b[0m \u001b[0;34m=\u001b[0m \u001b[0;32mNone\u001b[0m\u001b[0;34m\u001b[0m\u001b[0;34m\u001b[0m\u001b[0m\n\u001b[0;32m-> 1442\u001b[0;31m         \u001b[0mself\u001b[0m\u001b[0;34m.\u001b[0m\u001b[0m_engine\u001b[0m \u001b[0;34m=\u001b[0m \u001b[0mself\u001b[0m\u001b[0;34m.\u001b[0m\u001b[0m_make_engine\u001b[0m\u001b[0;34m(\u001b[0m\u001b[0mf\u001b[0m\u001b[0;34m,\u001b[0m \u001b[0mself\u001b[0m\u001b[0;34m.\u001b[0m\u001b[0mengine\u001b[0m\u001b[0;34m)\u001b[0m\u001b[0;34m\u001b[0m\u001b[0;34m\u001b[0m\u001b[0m\n\u001b[0m\u001b[1;32m   1443\u001b[0m \u001b[0;34m\u001b[0m\u001b[0m\n\u001b[1;32m   1444\u001b[0m     \u001b[0;32mdef\u001b[0m \u001b[0mclose\u001b[0m\u001b[0;34m(\u001b[0m\u001b[0mself\u001b[0m\u001b[0;34m)\u001b[0m \u001b[0;34m->\u001b[0m \u001b[0;32mNone\u001b[0m\u001b[0;34m:\u001b[0m\u001b[0;34m\u001b[0m\u001b[0;34m\u001b[0m\u001b[0m\n",
            "\u001b[0;32m/usr/local/lib/python3.10/dist-packages/pandas/io/parsers/readers.py\u001b[0m in \u001b[0;36m_make_engine\u001b[0;34m(self, f, engine)\u001b[0m\n\u001b[1;32m   1733\u001b[0m                 \u001b[0;32mif\u001b[0m \u001b[0;34m\"b\"\u001b[0m \u001b[0;32mnot\u001b[0m \u001b[0;32min\u001b[0m \u001b[0mmode\u001b[0m\u001b[0;34m:\u001b[0m\u001b[0;34m\u001b[0m\u001b[0;34m\u001b[0m\u001b[0m\n\u001b[1;32m   1734\u001b[0m                     \u001b[0mmode\u001b[0m \u001b[0;34m+=\u001b[0m \u001b[0;34m\"b\"\u001b[0m\u001b[0;34m\u001b[0m\u001b[0;34m\u001b[0m\u001b[0m\n\u001b[0;32m-> 1735\u001b[0;31m             self.handles = get_handle(\n\u001b[0m\u001b[1;32m   1736\u001b[0m                 \u001b[0mf\u001b[0m\u001b[0;34m,\u001b[0m\u001b[0;34m\u001b[0m\u001b[0;34m\u001b[0m\u001b[0m\n\u001b[1;32m   1737\u001b[0m                 \u001b[0mmode\u001b[0m\u001b[0;34m,\u001b[0m\u001b[0;34m\u001b[0m\u001b[0;34m\u001b[0m\u001b[0m\n",
            "\u001b[0;32m/usr/local/lib/python3.10/dist-packages/pandas/io/common.py\u001b[0m in \u001b[0;36mget_handle\u001b[0;34m(path_or_buf, mode, encoding, compression, memory_map, is_text, errors, storage_options)\u001b[0m\n\u001b[1;32m    854\u001b[0m         \u001b[0;32mif\u001b[0m \u001b[0mioargs\u001b[0m\u001b[0;34m.\u001b[0m\u001b[0mencoding\u001b[0m \u001b[0;32mand\u001b[0m \u001b[0;34m\"b\"\u001b[0m \u001b[0;32mnot\u001b[0m \u001b[0;32min\u001b[0m \u001b[0mioargs\u001b[0m\u001b[0;34m.\u001b[0m\u001b[0mmode\u001b[0m\u001b[0;34m:\u001b[0m\u001b[0;34m\u001b[0m\u001b[0;34m\u001b[0m\u001b[0m\n\u001b[1;32m    855\u001b[0m             \u001b[0;31m# Encoding\u001b[0m\u001b[0;34m\u001b[0m\u001b[0;34m\u001b[0m\u001b[0m\n\u001b[0;32m--> 856\u001b[0;31m             handle = open(\n\u001b[0m\u001b[1;32m    857\u001b[0m                 \u001b[0mhandle\u001b[0m\u001b[0;34m,\u001b[0m\u001b[0;34m\u001b[0m\u001b[0;34m\u001b[0m\u001b[0m\n\u001b[1;32m    858\u001b[0m                 \u001b[0mioargs\u001b[0m\u001b[0;34m.\u001b[0m\u001b[0mmode\u001b[0m\u001b[0;34m,\u001b[0m\u001b[0;34m\u001b[0m\u001b[0;34m\u001b[0m\u001b[0m\n",
            "\u001b[0;31mFileNotFoundError\u001b[0m: [Errno 2] No such file or directory: '/content/diabetes_012_health_indicators_BRFSS2021.csv'"
          ]
        }
      ],
      "source": [
        "df1 = pd.read_csv('/content/diabetes_012_health_indicators_BRFSS2021.csv')\n",
        "df1.shape"
      ]
    },
    {
      "cell_type": "code",
      "execution_count": null,
      "metadata": {
        "id": "d2841GuNXPbT"
      },
      "outputs": [],
      "source": [
        "df1.head()"
      ]
    },
    {
      "cell_type": "code",
      "execution_count": null,
      "metadata": {
        "id": "Ji_Bd5DfXXl8"
      },
      "outputs": [],
      "source": [
        "df1.tail()"
      ]
    },
    {
      "cell_type": "code",
      "execution_count": null,
      "metadata": {
        "id": "pigupbfV1-Db"
      },
      "outputs": [],
      "source": [
        "df1['Diabetes_012'].value_counts()"
      ]
    },
    {
      "cell_type": "code",
      "execution_count": null,
      "metadata": {
        "id": "OkIdblWUbIGQ"
      },
      "outputs": [],
      "source": [
        "((df1['Diabetes_012'] == 1) | (df1['Diabetes_012'] == 2)).sum()"
      ]
    },
    {
      "cell_type": "code",
      "execution_count": null,
      "metadata": {
        "id": "Aisi2oOJaJ-h"
      },
      "outputs": [],
      "source": [
        "df1['Diabetes_012'] = df1['Diabetes_012'].replace({1: 1, 2: 1, 0: 0})"
      ]
    },
    {
      "cell_type": "code",
      "execution_count": null,
      "metadata": {
        "id": "C_cUnzsTeMot"
      },
      "outputs": [],
      "source": [
        "df1.rename(columns={'Diabetes_012': 'Diabetes_binary'}, inplace=True)"
      ]
    },
    {
      "cell_type": "code",
      "execution_count": null,
      "metadata": {
        "id": "7wT-MrxCFmzp"
      },
      "outputs": [],
      "source": [
        "class_counts = df1['Diabetes_binary'].value_counts()\n",
        "plt.figure(figsize=(4, 4))\n",
        "plt.pie(class_counts, labels=class_counts.index, autopct='%1.1f%%', colors=['lightcoral', 'lightblue'])\n",
        "plt.title('Diabetes_binary')\n",
        "plt.show()\n",
        "((df1['Diabetes_binary'] == 1)).sum()"
      ]
    },
    {
      "cell_type": "code",
      "execution_count": null,
      "metadata": {
        "id": "Agimtp1v1nep"
      },
      "outputs": [],
      "source": [
        "duplicate_count = (df1.duplicated()).sum()\n",
        "print(duplicate_count)\n",
        "\n",
        "total_rows,total_col = df1.shape\n",
        "\n",
        "# Calculate the duplicate rate\n",
        "duplicate_rate = duplicate_count / total_rows * 100\n",
        "\n",
        "plt.figure(figsize=(6, 4))\n",
        "plt.bar(['Duplicate', 'Non-duplicate'], [duplicate_rate, 100 - duplicate_rate], color=['lightcoral', 'lightblue'])\n",
        "plt.title('Rate of Duplicate Data')\n",
        "plt.ylabel('Percentage')\n",
        "plt.show()"
      ]
    },
    {
      "cell_type": "code",
      "source": [
        "df1.drop_duplicates(inplace=True)"
      ],
      "metadata": {
        "id": "z2F0-B-8eGFF"
      },
      "execution_count": null,
      "outputs": []
    },
    {
      "cell_type": "code",
      "execution_count": null,
      "metadata": {
        "id": "V-QtUr6V3QFI"
      },
      "outputs": [],
      "source": [
        "df1['Diabetes_binary'].value_counts()"
      ]
    },
    {
      "cell_type": "code",
      "execution_count": null,
      "metadata": {
        "id": "POl75_fSbRn2"
      },
      "outputs": [],
      "source": [
        "df2 = pd.read_csv(\"/content/diabetes_binary_5050split_health_indicators_BRFSS2021.csv\")"
      ]
    },
    {
      "cell_type": "code",
      "execution_count": null,
      "metadata": {
        "id": "0rOT2iAEbdnn"
      },
      "outputs": [],
      "source": [
        "df2.head()"
      ]
    },
    {
      "cell_type": "code",
      "execution_count": null,
      "metadata": {
        "id": "kq6QNVSebrXT"
      },
      "outputs": [],
      "source": [
        "class_counts = df2['Diabetes_binary'].value_counts()\n",
        "plt.figure(figsize=(4, 4))\n",
        "plt.pie(class_counts, labels=class_counts.index, autopct='%1.1f%%', colors=['lightcoral', 'lightblue'])\n",
        "plt.title('Diabetes_binary')\n",
        "plt.show()"
      ]
    },
    {
      "cell_type": "code",
      "execution_count": null,
      "metadata": {
        "id": "Ejnzn3Cd4efl"
      },
      "outputs": [],
      "source": [
        "duplicate_count = (df2.duplicated()).sum()\n",
        "print(duplicate_count)\n",
        "\n",
        "total_rows = len(df2)\n",
        "\n",
        "duplicate_rate = duplicate_count / total_rows * 100\n",
        "\n",
        "plt.figure(figsize=(6, 4))\n",
        "plt.bar(['Duplicate', 'Non-duplicate'], [duplicate_rate, 100 - duplicate_rate], color=['lightcoral', 'lightblue'])\n",
        "plt.title('Rate of Duplicate Data')\n",
        "plt.ylabel('Percentage')\n",
        "plt.show()"
      ]
    },
    {
      "cell_type": "code",
      "execution_count": null,
      "metadata": {
        "id": "zaS_Xhrj4hE6"
      },
      "outputs": [],
      "source": [
        "df2['Diabetes_binary'].value_counts()"
      ]
    },
    {
      "cell_type": "code",
      "execution_count": null,
      "metadata": {
        "id": "N5gHJrFpcBAt"
      },
      "outputs": [],
      "source": [
        "df3 = df2[df2['Diabetes_binary'] == 1]"
      ]
    },
    {
      "cell_type": "code",
      "execution_count": null,
      "metadata": {
        "id": "2fL7qT7HcCYI"
      },
      "outputs": [],
      "source": [
        "df3.head()"
      ]
    },
    {
      "cell_type": "code",
      "source": [
        "df3.describe()"
      ],
      "metadata": {
        "id": "1qOFOtz_dO2q"
      },
      "execution_count": null,
      "outputs": []
    },
    {
      "cell_type": "code",
      "source": [
        "def upscale_column(column):\n",
        "    small_change = 0.1\n",
        "    return column + small_change\n",
        "\n",
        "# Apply the function to every numerical column except the first column\n",
        "numerical_columns = df3.iloc[:, 1:].select_dtypes(include='number').columns\n",
        "df3[numerical_columns] = df3[numerical_columns].apply(upscale_column)\n"
      ],
      "metadata": {
        "id": "-IMEY3NSd0Nh"
      },
      "execution_count": null,
      "outputs": []
    },
    {
      "cell_type": "code",
      "execution_count": null,
      "metadata": {
        "id": "V-txFKvjdKuU"
      },
      "outputs": [],
      "source": [
        "df = pd.concat([df1, df3], ignore_index=True)"
      ]
    },
    {
      "cell_type": "code",
      "execution_count": null,
      "metadata": {
        "id": "lsyX29AMdiIy"
      },
      "outputs": [],
      "source": [
        "df.shape"
      ]
    },
    {
      "cell_type": "code",
      "execution_count": null,
      "metadata": {
        "id": "giF-Oy4uenCx"
      },
      "outputs": [],
      "source": [
        "df.head()"
      ]
    },
    {
      "cell_type": "code",
      "source": [
        "df.duplicated().sum()"
      ],
      "metadata": {
        "id": "Tscxr95RfcZk"
      },
      "execution_count": null,
      "outputs": []
    },
    {
      "cell_type": "code",
      "source": [
        "df.describe()"
      ],
      "metadata": {
        "id": "hGg1HnsXfh5K"
      },
      "execution_count": null,
      "outputs": []
    },
    {
      "cell_type": "code",
      "execution_count": null,
      "metadata": {
        "id": "HmzhiT5FfeyM"
      },
      "outputs": [],
      "source": [
        "class_counts = df['Diabetes_binary'].value_counts()\n",
        "min_class_1 = int(class_counts[1])\n",
        "min_class_0 = int(0.5 * class_counts[0])\n",
        "\n",
        "balanced_df = df.groupby('Diabetes_binary').apply(\n",
        "    lambda x: x.sample(min_class_1) if x['Diabetes_binary'].iloc[0] == 1.0 else x.sample(min_class_0)\n",
        ").reset_index(drop=True)\n"
      ]
    },
    {
      "cell_type": "code",
      "execution_count": null,
      "metadata": {
        "id": "PEE3O-IegCKg"
      },
      "outputs": [],
      "source": [
        "class_counts = balanced_df['Diabetes_binary'].value_counts()\n",
        "\n",
        "# Plotting a pie chart\n",
        "plt.figure(figsize=(4, 4))\n",
        "plt.pie(class_counts, labels=class_counts.index, autopct='%1.1f%%', colors=['lightcoral', 'lightblue'])\n",
        "plt.title('Class Distribution')\n",
        "plt.show()"
      ]
    },
    {
      "cell_type": "code",
      "source": [
        "balanced_df.drop_duplicates(inplace=True)"
      ],
      "metadata": {
        "id": "iPLJEh8qnsDi"
      },
      "execution_count": null,
      "outputs": []
    },
    {
      "cell_type": "code",
      "execution_count": null,
      "metadata": {
        "id": "IdXSkfMfJ7n_"
      },
      "outputs": [],
      "source": [
        "duplicate_count = (balanced_df.duplicated()).sum()\n",
        "\n",
        "total_rows = len(balanced_df)\n",
        "\n",
        "duplicate_rate = duplicate_count / total_rows * 100\n",
        "\n",
        "plt.figure(figsize=(8, 6))\n",
        "plt.bar(['Duplicate', 'Non-duplicate'], [duplicate_rate, 100 - duplicate_rate], color=['lightcoral', 'lightblue'])\n",
        "plt.title('Rate of Duplicate Data')\n",
        "plt.ylabel('Percentage')\n",
        "plt.show()\n"
      ]
    },
    {
      "cell_type": "code",
      "execution_count": null,
      "metadata": {
        "id": "KhOT5dLK6W1o"
      },
      "outputs": [],
      "source": [
        "balanced_df.describe()"
      ]
    },
    {
      "cell_type": "markdown",
      "source": [
        "## **Visualizing and Type casting**"
      ],
      "metadata": {
        "id": "NJfE9n34VWHR"
      }
    },
    {
      "cell_type": "code",
      "execution_count": null,
      "metadata": {
        "id": "gbzp4gkQ7K9Y"
      },
      "outputs": [],
      "source": [
        "data_types = {\n",
        "    \"Diabetes_binary\": \"float32\",\n",
        "    \"HighBP\": \"int32\",\n",
        "    \"HighChol\": \"float32\",\n",
        "    \"CholCheck\": \"int32\",\n",
        "    \"BMI\": \"float32\",\n",
        "    \"Smoker\": \"float32\",\n",
        "    \"Stroke\": \"float32\",\n",
        "    \"HeartDiseaseorAttack\": \"float32\",\n",
        "    \"PhysActivity\": \"int32\",\n",
        "    \"Fruits\": \"int32\",\n",
        "    \"Veggies\": \"int32\",\n",
        "    \"HvyAlcoholConsump\": \"int32\",\n",
        "    \"AnyHealthcare\": \"int32\",\n",
        "    \"NoDocbcCost\": \"float32\",\n",
        "    \"GenHlth\": \"float32\",\n",
        "    \"MentHlth\": \"float32\",\n",
        "    \"PhysHlth\": \"float32\",\n",
        "    \"DiffWalk\": \"float32\",\n",
        "    \"Sex\": \"int32\",\n",
        "    \"Age\": \"int32\",\n",
        "    \"Education\": \"float32\",\n",
        "    \"Income\": \"float32\"\n",
        "}\n",
        "\n",
        "for column, dtype in data_types.items():\n",
        "    balanced_df[column] = balanced_df[column].astype(dtype)"
      ]
    },
    {
      "cell_type": "code",
      "execution_count": null,
      "metadata": {
        "id": "tWrcjpss9f2J"
      },
      "outputs": [],
      "source": [
        "balanced_df.info()"
      ]
    },
    {
      "cell_type": "code",
      "execution_count": null,
      "metadata": {
        "id": "SLUDVZfTCEIN"
      },
      "outputs": [],
      "source": [
        "plt.figure(figsize=(14, 14))\n",
        "sns.heatmap(balanced_df.corr(), annot=True, cmap='coolwarm', linewidth=.8)\n",
        "plt.show()"
      ]
    },
    {
      "cell_type": "code",
      "source": [
        "balanced_df.groupby('Diabetes_binary').mean()"
      ],
      "metadata": {
        "id": "RxNJ_5w09wqW"
      },
      "execution_count": null,
      "outputs": []
    },
    {
      "cell_type": "code",
      "execution_count": null,
      "metadata": {
        "id": "5XJ7ghqVCS5q"
      },
      "outputs": [],
      "source": [
        "balanced_df.drop('Diabetes_binary', axis=1).hist(bins=20, figsize=(14, 14))\n",
        "plt.tight_layout()\n",
        "plt.show()"
      ]
    },
    {
      "cell_type": "code",
      "source": [
        "balanced_df.describe()"
      ],
      "metadata": {
        "id": "MQl4sxcKggJg"
      },
      "execution_count": null,
      "outputs": []
    },
    {
      "cell_type": "markdown",
      "source": [
        "# Scaling the data"
      ],
      "metadata": {
        "id": "jONxZrrNV_X_"
      }
    },
    {
      "cell_type": "code",
      "execution_count": null,
      "metadata": {
        "id": "Y3WaUs4oN0aT"
      },
      "outputs": [],
      "source": [
        "X = balanced_df.drop('Diabetes_binary',axis=1)\n",
        "y = balanced_df['Diabetes_binary']\n",
        "print(len(X))"
      ]
    },
    {
      "cell_type": "code",
      "source": [
        "from sklearn.preprocessing import MinMaxScaler\n",
        "scaler = MinMaxScaler()\n",
        "scaled_features = scaler.fit_transform(X)\n",
        "x = pd.DataFrame(scaled_features,columns=balanced_df.columns[1:])\n",
        "x.head(10)"
      ],
      "metadata": {
        "id": "HCLn1049q8lS"
      },
      "execution_count": null,
      "outputs": []
    },
    {
      "cell_type": "code",
      "execution_count": null,
      "metadata": {
        "id": "xcck0xsgFwfG"
      },
      "outputs": [],
      "source": [
        "X.isna().sum()"
      ]
    },
    {
      "cell_type": "markdown",
      "source": [
        "# Spliting the data"
      ],
      "metadata": {
        "id": "oERQUbzvWMcC"
      }
    },
    {
      "cell_type": "code",
      "execution_count": null,
      "metadata": {
        "id": "_QvnoP6YN4QS"
      },
      "outputs": [],
      "source": [
        "from sklearn.model_selection import train_test_split"
      ]
    },
    {
      "cell_type": "code",
      "execution_count": null,
      "metadata": {
        "id": "-MGjDHv-N8aN"
      },
      "outputs": [],
      "source": [
        "X_train, X_test, y_train, y_test = train_test_split( X, y, test_size=0.3, random_state=7)"
      ]
    },
    {
      "cell_type": "markdown",
      "source": [
        "## Modeling **bold text**"
      ],
      "metadata": {
        "id": "DfMdfPIUWWcb"
      }
    },
    {
      "cell_type": "code",
      "execution_count": null,
      "metadata": {
        "id": "s3Fx67-bOAoW"
      },
      "outputs": [],
      "source": [
        "from sklearn.linear_model import LogisticRegression"
      ]
    },
    {
      "cell_type": "code",
      "execution_count": null,
      "metadata": {
        "id": "_SQKPZtKOFN3"
      },
      "outputs": [],
      "source": [
        "L_model = LogisticRegression(max_iter=1000)\n",
        "L_model.fit(X_train,y_train)"
      ]
    },
    {
      "cell_type": "code",
      "execution_count": null,
      "metadata": {
        "id": "xZCGzzvnOIlf"
      },
      "outputs": [],
      "source": [
        "y_pred = L_model.predict(X_test)\n",
        "print(\"-------------------------------------------------------------------------\")\n",
        "print(f\"The accuraccy score is: ------>>  {accuracy_score(y_test,y_pred)}\")\n",
        "print(\"-------------------------------------------------------------------------\")\n",
        "conf_matrix = confusion_matrix(y_test, y_pred)\n",
        "\n",
        "plt.figure(figsize=(6, 6))\n",
        "sns.heatmap(conf_matrix, annot=True, fmt=\"d\", cmap=\"Greens\", cbar=False,\n",
        "            xticklabels=[f\"Class {i}\" for i in range(conf_matrix.shape[1])],\n",
        "            yticklabels=[f\"Class {i}\" for i in range(conf_matrix.shape[0])])\n",
        "plt.title(\"Confusion Matrix of LogisticRegression\")\n",
        "plt.xlabel(\"Predicted\")\n",
        "plt.ylabel(\"Actual\")\n",
        "plt.show()"
      ]
    },
    {
      "cell_type": "code",
      "source": [
        "from sklearn.ensemble import RandomForestClassifier"
      ],
      "metadata": {
        "id": "Xv1hNmt1kxJM"
      },
      "execution_count": null,
      "outputs": []
    },
    {
      "cell_type": "code",
      "source": [
        "model = RandomForestClassifier(n_estimators=200)\n",
        "model.fit(X_train,y_train)"
      ],
      "metadata": {
        "id": "w8-tGKAwk1JR"
      },
      "execution_count": null,
      "outputs": []
    },
    {
      "cell_type": "code",
      "source": [
        "y_pred = model.predict(X_test)\n",
        "\n",
        "print(\"-------------------------------------------------------------------------\")\n",
        "print(f\"The accuracy score is: ------>>  {accuracy_score(y_test, y_pred)}\")\n",
        "print(\"-------------------------------------------------------------------------\")\n",
        "\n",
        "conf_matrix = confusion_matrix(y_test, y_pred)\n",
        "\n",
        "plt.figure(figsize=(6, 6))\n",
        "sns.heatmap(conf_matrix, annot=True, fmt=\"d\", cmap=\"Blues\", cbar=False,\n",
        "            xticklabels=[f\"Class {i}\" for i in range(conf_matrix.shape[1])],\n",
        "            yticklabels=[f\"Class {i}\" for i in range(conf_matrix.shape[0])])\n",
        "plt.title(\"Confusion Matrix of RandomForestClassifier\")\n",
        "plt.xlabel(\"Predicted\")\n",
        "plt.ylabel(\"Actual\")\n",
        "plt.show()"
      ],
      "metadata": {
        "id": "4E_eUL1QdU3P"
      },
      "execution_count": null,
      "outputs": []
    },
    {
      "cell_type": "code",
      "source": [
        "from sklearn.ensemble import GradientBoostingClassifier"
      ],
      "metadata": {
        "id": "V-iv9NwAgnG3"
      },
      "execution_count": null,
      "outputs": []
    },
    {
      "cell_type": "code",
      "source": [
        "gradient_boosting_model = GradientBoostingClassifier(n_estimators=100)\n",
        "gradient_boosting_model.fit(X_train, y_train)"
      ],
      "metadata": {
        "id": "R6YKyXA8-Hst"
      },
      "execution_count": null,
      "outputs": []
    },
    {
      "cell_type": "code",
      "source": [
        "y_pred_gb = gradient_boosting_model.predict(X_test)\n",
        "\n",
        "accuracy_gb = accuracy_score(y_test, y_pred_gb)\n",
        "\n",
        "print(\"-------------------------------------------------------------------------\")\n",
        "print(f\"Gradient Boosting Accuracy: {accuracy_gb}\")\n",
        "print(\"-------------------------------------------------------------------------\")\n",
        "\n",
        "conf_matrix = confusion_matrix(y_test, y_pred_gb)\n",
        "\n",
        "plt.figure(figsize=(6, 6))\n",
        "sns.heatmap(conf_matrix, annot=True, fmt=\"d\", cmap=\"Blues\", cbar=False,\n",
        "            xticklabels=[f\"Class {i}\" for i in range(conf_matrix.shape[1])],\n",
        "            yticklabels=[f\"Class {i}\" for i in range(conf_matrix.shape[0])])\n",
        "plt.title(\"Confusion Matrix of GradientBoostingClassifier\")\n",
        "plt.xlabel(\"Predicted\")\n",
        "plt.ylabel(\"Actual\")\n",
        "plt.show()"
      ],
      "metadata": {
        "id": "rl_KBJ2GgahP"
      },
      "execution_count": null,
      "outputs": []
    },
    {
      "cell_type": "code",
      "source": [
        "accuracy_scores = [accuracy_score(y_test, L_model.predict(X_test)),\n",
        "                   accuracy_score(y_test, model.predict(X_test)),\n",
        "                   accuracy_gb]\n",
        "\n",
        "models = ['Logistic Regression', 'Random Forest', 'Gradient Boosting']\n",
        "\n",
        "plt.figure(figsize=(8, 6))\n",
        "plt.bar(models, accuracy_scores, color=['green', 'blue', 'purple'])\n",
        "plt.ylim(0.7, 0.85)\n",
        "plt.title('Comparison of Model Accuracy Scores')\n",
        "plt.xlabel('Model')\n",
        "plt.ylabel('Accuracy Score')\n",
        "plt.show()\n"
      ],
      "metadata": {
        "id": "r39xiW2tQy22"
      },
      "execution_count": null,
      "outputs": []
    }
  ],
  "metadata": {
    "colab": {
      "provenance": []
    },
    "kernelspec": {
      "display_name": "Python 3",
      "name": "python3"
    },
    "language_info": {
      "name": "python"
    }
  },
  "nbformat": 4,
  "nbformat_minor": 0
}